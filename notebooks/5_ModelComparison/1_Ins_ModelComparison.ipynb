{
 "cells": [
  {
   "cell_type": "markdown",
   "metadata": {},
   "source": [
    "# Section 5.1 Model Comparison Methods\n",
    "*How can we determine which model better fits our needs?*"
   ]
  },
  {
   "cell_type": "code",
   "execution_count": 1,
   "metadata": {},
   "outputs": [
    {
     "name": "stderr",
     "output_type": "stream",
     "text": [
      "WARNING (theano.configdefaults): install mkl with `conda install mkl-service`: No module named 'mkl'\n"
     ]
    }
   ],
   "source": [
    "import os\n",
    "import time\n",
    "\n",
    "import arviz as az\n",
    "import numpy as np\n",
    "import pymc3 as pm\n",
    "import scipy.stats as stats\n",
    "\n",
    "from utils import metropolis_hastings\n",
    "\n",
    "np.random.seed(0)\n",
    "\n",
    "# Path Constants\n",
    "if os.path.split(os.getcwd())[-1] != \"notebooks\":\n",
    "    os.chdir(os.path.join(\"..\"))\n",
    "    \n",
    "NETCDF_DIR = \"inference_data\""
   ]
  },
  {
   "cell_type": "markdown",
   "metadata": {},
   "source": [
    "## Learning Objectives\n",
    "* Understanding of how to interpret WAIC, PSIS-LOO numerical metrics\n",
    "* Understanding of how to interpret plot_compare"
   ]
  },
  {
   "cell_type": "markdown",
   "metadata": {},
   "source": [
    "## Infinite parameters and Infinite Models\n",
    "As Bayesian modelers not only do we have to handle infinite model parameters, we also have to handle infinite model defnitions.\n",
    "\n",
    "Take our water example from Section 1.3. \n",
    "$$\n",
    "\\theta = Uniform(0,1) \\\\\n",
    "p_{water} = Binom(\\theta)\n",
    "$$\n",
    "In this model we're evaulating not just one possible proportion of water on a planet, but an infinite amount of proportions from 0 to 1.\n",
    "\n",
    "But this begs the question why 0 to 1, or why even this model? This is also a valid model\n",
    "\n",
    "$$\n",
    "\\theta = Beta(1,5) \\\\\n",
    "p_{water} = Binom(\\theta)\n",
    "$$\n",
    "\n",
    "as is this model\n",
    "\n",
    "$$ \n",
    "\\theta = Uniform(0,1) \\\\\n",
    "\\sigma = Uniform(0,100) \\\\\n",
    "p_{water} = Norm(\\theta, \\sigma)\n",
    "$$\n",
    "\n",
    "### How do we pick?\n",
    "The flexibility to design whatever model you like is simultaneously the beauty and challenge of Bayesian modelling. While this philosophy is nice, for the practioner there still is the question of which model to choose and luckily there are of tools that help. In particular we'll cover Widely Applicable Information Criteria and how it's used in cojunction with `plot_compare\n",
    "* az.plot_compare"
   ]
  },
  {
   "cell_type": "markdown",
   "metadata": {},
   "source": [
    "## Information Criterion\n",
    "When you hear Information Criterion you usually hear the words entropy, divergence, and deviance. While too much for this tutorial the general idea of all these concepts is the same, \"How can we quantify the uncertainty of the model?\" and in the case of divergence \"How can we quantify the difference between two distributions?\"\n",
    "\n",
    "The reason this question is particularly challenging in Bayesian Statistics because we don't get just one prediction, we get an infinite amount of predictions in a distribution. However this does not mean that Bayesian analysis is not suspect to phenomena such as overfitting or excess complexity.\n",
    "\n",
    "$$AIC = D_{train} + 2k$$ \n",
    "\n",
    "* Information Criterion are a way of balancing train data and prediction fit versus number of parameters\n",
    "* For example AIC well known and simple here's formula\n",
    "* AIC has limitations though so WAIC is better choice. Formula is more complicated but same idea\n",
    "* Here's some good references https://www.youtube.com/watch?v=gjrsYDJbRh0\n",
    "* Practical advice Lower tends to be better\n",
    "**Need to fill out this section**\n",
    "\n"
   ]
  },
  {
   "cell_type": "markdown",
   "metadata": {},
   "source": [
    "## Additional Methods Pareto Smoothed Importance Sample "
   ]
  },
  {
   "cell_type": "markdown",
   "metadata": {},
   "source": [
    "**Determine example data to demonstrate these**"
   ]
  }
 ],
 "metadata": {
  "kernelspec": {
   "display_name": "Python 3",
   "language": "python",
   "name": "python3"
  },
  "language_info": {
   "codemirror_mode": {
    "name": "ipython",
    "version": 3
   },
   "file_extension": ".py",
   "mimetype": "text/x-python",
   "name": "python",
   "nbconvert_exporter": "python",
   "pygments_lexer": "ipython3",
   "version": "3.6.8"
  }
 },
 "nbformat": 4,
 "nbformat_minor": 2
}
