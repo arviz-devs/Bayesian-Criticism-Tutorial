{
 "cells": [
  {
   "cell_type": "markdown",
   "metadata": {},
   "source": [
    "# Section 5.1 Model Comparison Methods\n",
    "*How can we determine which model better fits our needs?*"
   ]
  },
  {
   "cell_type": "code",
   "execution_count": 4,
   "metadata": {},
   "outputs": [],
   "source": [
    "import os\n",
    "import time\n",
    "\n",
    "import arviz as az\n",
    "import numpy as np\n",
    "import pymc3 as pm\n",
    "import scipy.stats as stats\n",
    "\n",
    "\n",
    "np.random.seed(0)\n",
    "\n",
    "# Path Constants\n",
    "if os.path.split(os.getcwd())[-1] != \"notebooks\":\n",
    "    os.chdir(os.path.join(\"..\"))\n",
    "\n",
    "from utils import metropolis_hastings\n",
    "\n",
    "NETCDF_DIR = \"inference_data\""
   ]
  },
  {
   "cell_type": "markdown",
   "metadata": {},
   "source": [
    "## Learning Objectives\n",
    "* Understanding of how to interpret WAIC, PSIS-LOO numerical metrics\n",
    "* Understanding of how to interpret plot_compare"
   ]
  },
  {
   "cell_type": "markdown",
   "metadata": {},
   "source": [
    "## Infinite parameters and Infinite Models\n",
    "As Bayesian modelers not only do we have to handle infinite model parameters, we also have to handle infinite model defnitions.\n",
    "\n",
    "Take our water example from Section 1.3. \n",
    "$$\n",
    "\\theta = Uniform(0,1) \\\\\n",
    "p_{water} = Binom(\\theta)\n",
    "$$\n",
    "In this model we're evaulating not just one possible proportion of water on a planet, but an infinite amount of proportions from 0 to 1.\n",
    "\n",
    "But this begs the question why 0 to 1, or why even this model? This is also a valid model\n",
    "\n",
    "$$\n",
    "\\theta = Beta(1,5) \\\\\n",
    "p_{water} = Binom(\\theta)\n",
    "$$\n",
    "\n",
    "as is this model\n",
    "\n",
    "$$ \n",
    "\\theta = Uniform(0,1) \\\\\n",
    "\\sigma = Uniform(0,100) \\\\\n",
    "p_{water} = Norm(\\theta, \\sigma)\n",
    "$$\n",
    "\n",
    "### How do we pick?\n",
    "The flexibility to design whatever model you like is simultaneously the beauty and challenge of Bayesian modeling. While this philosophy is nice, for the practioner there still is the question of which model to choose. The reason this question is particularly challenging in Bayesian Statistics because we don't get just one prediction, we get an infinite amount of predictions in a distribution. However this does not mean that Bayesian analysis is not suspect to phenomena such as overfitting or excess complexity.\n",
    "\n",
    "Luckily there tools that help. In particular we'll cover *Widely Applicable Information Criterion* and how it's used in cojunction with `plot_compare`."
   ]
  },
  {
   "cell_type": "markdown",
   "metadata": {},
   "source": [
    "### A history of Information Theory\n",
    "When you hear Information Criterion you usually hear the words entropy, divergence, and deviance.  Let's briefly cover how these ideas build upon each other by walking through information theory.\n",
    "\n",
    "\n",
    "\\*Note:* This section heavily draws from Richard McElreath's examples. We'll be covering the material at a high level to get a full understanding we highly recommend his  [lectures](https://www.youtube.com/watch?v=gjrsYDJbRh0) and [books](https://www.amazon.com/Statistical-Rethinking-Bayesian-Examples-Chapman/dp/1482253445/). \n",
    "\n",
    "\n",
    "To restate our prior question \"If have  3, or 5, or 10, estimates of the truth (also called models) which most usefully explains the truth, given the truth is also uncertain?\"\n",
    "\n",
    "Over the years a number of folks have contributed mathematical tools that help answer this question. In short the we go in this order\n",
    "\n",
    "1. How do we quantify uncertainty? (Information Entropy)\n",
    "2. How do we quantify the additional uncertainty added from an estimate when we know the truth? (KL Divergence)\n",
    "3. How do we estimate the additional uncertainty added from an estimate when we don't know the truth? (Deviance)\n",
    "4. How do we make sure we're ensure were underestimating uncertainty with complex models? (Information Criteria)\n",
    "\n",
    "This section is quite heavy of math. However it is not critical to understand the fine details, but more so the path of thinking.\n",
    "\n",
    "#### *Information Entropy*: Quantifying Uncertainty\n",
    "Weather is uncertain, and dice rolls are uncertain. But weather in certain areas is delightfully consistent, like my hometown of Orange County, and \"loaded\" are designed to be inconsistent.\n",
    "\n",
    "Information Entropy is a summarization of our uncertainty through the following formula  \n",
    "$$ H(p) = -\\sum_{n=1}^{N} p_{i}log(p_{i})$$\n",
    "\n",
    "#### *Divergence*: Quantifying additional uncertainty added from estimations of the truth\n",
    "Now that we can quantify the uncertainty in the distribution of reality, we can compare the uncertainty in the distribution our model to see how far off we are. The formula is as follows, where $p$ is the truth and $q$ is the estimate\n",
    "\n",
    "$$D_{kl} = -\\sum_{n=1}^{N} p_{i}(log(q_{i}) - log(p_{i}))$$\n",
    "\n",
    "This is the idea of **divergence**, a measurement of the \"distance\" between two distributions. One important note this distance is not symmetric. For some quick intuition It was way more surprising for me to go from always sunny Los Angeles and experience snow in Wisconsin, than it is for a native Wisconsite to see sun in Los Angeles. People in Los Angeles only see sun, people in Wisconsin see sun and snow, therefore a Los Angeles is much farther removed from the reality of a mixed sunny/snowy climate, than a Wisconsinite is to an always sunny climate.\n",
    "\n",
    "#### *Deviance*: Estimating additional uncertainty because we don't know the truth using Deviance\n",
    "If we knew the truth then there wouldn't be a point to this tutorial, or the entire field of Statistics/Machine Learning. Since we don't know the truth this unfortunately means we can't use the formula above, but through some clever thinking it turns out you don't need to know the truth to compare two models, just how far off one model is relative from another. By using the truth data (The weather in the past), and a model estimates, its possible to calculate **Deviance** which is an estimate of the divergence.\n",
    "\n",
    "Taken from Osvaldo Martin's book [Bayesian Data Analysis in Python](https://www.packtpub.com/big-data-and-business-intelligence/bayesian-analysis-python-second-edition)\n",
    "\n",
    "$$D_{kl}(p \\mid \\mid q) - D_{kl}(q \\mid \\mid r) \\approx \\sum_{n=1}^{N} log(q_{i}) - \\sum_{n=1}^{N} log(r_{i})$$\n",
    "Remember this works because we're not trying to see how far one model is from the truth, we're just trying to see how far two models are from the truth *relative to each other*\n",
    "\n",
    "#### *Information Criterion*: Making sure we're not overfitting to observed data using complex models\n",
    "Deviance uses data that has been observed to make an estimation. As it turns out it's impossible to use data you haven't seen because you haven't seen it. As it also turns out if you make models complex you can explain anything perfectly. *Information Criterion* uses both estimates of deviance and a penalizing for excess model complexity to \"score\" a model fit.\n"
   ]
  },
  {
   "cell_type": "markdown",
   "metadata": {},
   "source": [
    "## Information Criterion in detail\n",
    "Information Criterion calcuations are composed of two terms\n",
    "\n",
    "1. Estimate of a the deviance\n",
    "2. Number of parameters in the model\n",
    "\n",
    "Below is the summarized formula for Widely Applicable Information Criterion (Also Watanabe–Akaike information criterion) \n",
    "\n",
    "$$WAIC = -2 lppd + p_{WAIC}$$ \n",
    "\n",
    "*lppd* stands for log pointwise predictive density, and $p_{WAIC}$ is an effective number of the parameters. Between the two we get an estimate of model \"accuracy\" balanced by model complexity\n",
    "\n",
    "### What about AIC, BIC, DIC?\n",
    "There are numerous variations of Information Criterion (IC) estimates. However due to assumptions in the calculations some of the IC's estimations are less general than others. As the name suggests Widely Applicable IC, is well, the most widely applicable. Richard McElreath goes through the full explanation in his book.\n",
    "\n"
   ]
  },
  {
   "cell_type": "markdown",
   "metadata": {},
   "source": [
    "## Compare\n",
    "Compare Dataframe is a handy way of comparing a set of models using Information Criteria."
   ]
  },
  {
   "cell_type": "code",
   "execution_count": 25,
   "metadata": {},
   "outputs": [
    {
     "data": {
      "text/html": [
       "<div>\n",
       "<style scoped>\n",
       "    .dataframe tbody tr th:only-of-type {\n",
       "        vertical-align: middle;\n",
       "    }\n",
       "\n",
       "    .dataframe tbody tr th {\n",
       "        vertical-align: top;\n",
       "    }\n",
       "\n",
       "    .dataframe thead th {\n",
       "        text-align: right;\n",
       "    }\n",
       "</style>\n",
       "<table border=\"1\" class=\"dataframe\">\n",
       "  <thead>\n",
       "    <tr style=\"text-align: right;\">\n",
       "      <th></th>\n",
       "      <th>waic</th>\n",
       "      <th>p_waic</th>\n",
       "      <th>d_waic</th>\n",
       "      <th>weight</th>\n",
       "      <th>se</th>\n",
       "      <th>dse</th>\n",
       "      <th>warning</th>\n",
       "      <th>waic_scale</th>\n",
       "    </tr>\n",
       "  </thead>\n",
       "  <tbody>\n",
       "    <tr>\n",
       "      <th>non centered</th>\n",
       "      <td>61.3022</td>\n",
       "      <td>0.820067</td>\n",
       "      <td>0</td>\n",
       "      <td>0.515575</td>\n",
       "      <td>2.54078</td>\n",
       "      <td>0</td>\n",
       "      <td>0</td>\n",
       "      <td>deviance</td>\n",
       "    </tr>\n",
       "    <tr>\n",
       "      <th>centered</th>\n",
       "      <td>61.4296</td>\n",
       "      <td>0.919548</td>\n",
       "      <td>0.127437</td>\n",
       "      <td>0.484425</td>\n",
       "      <td>2.50275</td>\n",
       "      <td>0.106882</td>\n",
       "      <td>0</td>\n",
       "      <td>deviance</td>\n",
       "    </tr>\n",
       "  </tbody>\n",
       "</table>\n",
       "</div>"
      ],
      "text/plain": [
       "                 waic    p_waic    d_waic    weight       se       dse  \\\n",
       "non centered  61.3022  0.820067         0  0.515575  2.54078         0   \n",
       "centered      61.4296  0.919548  0.127437  0.484425  2.50275  0.106882   \n",
       "\n",
       "             warning waic_scale  \n",
       "non centered       0   deviance  \n",
       "centered           0   deviance  "
      ]
     },
     "execution_count": 25,
     "metadata": {},
     "output_type": "execute_result"
    }
   ],
   "source": [
    "data1 = az.load_arviz_data(\"non_centered_eight\")\n",
    "data2 = az.load_arviz_data(\"centered_eight\")\n",
    "compare_dict = {\"non centered\": data1, \"centered\": data2}\n",
    "az.compare(compare_dict)"
   ]
  },
  {
   "cell_type": "code",
   "execution_count": 26,
   "metadata": {},
   "outputs": [
    {
     "data": {
      "text/html": [
       "<div>\n",
       "<style scoped>\n",
       "    .dataframe tbody tr th:only-of-type {\n",
       "        vertical-align: middle;\n",
       "    }\n",
       "\n",
       "    .dataframe tbody tr th {\n",
       "        vertical-align: top;\n",
       "    }\n",
       "\n",
       "    .dataframe thead th {\n",
       "        text-align: right;\n",
       "    }\n",
       "</style>\n",
       "<table border=\"1\" class=\"dataframe\">\n",
       "  <thead>\n",
       "    <tr style=\"text-align: right;\">\n",
       "      <th></th>\n",
       "      <th>waic</th>\n",
       "      <th>p_waic</th>\n",
       "      <th>d_waic</th>\n",
       "      <th>weight</th>\n",
       "      <th>se</th>\n",
       "      <th>dse</th>\n",
       "      <th>warning</th>\n",
       "      <th>waic_scale</th>\n",
       "    </tr>\n",
       "  </thead>\n",
       "  <tbody>\n",
       "    <tr>\n",
       "      <th>non centered</th>\n",
       "      <td>-30.6511</td>\n",
       "      <td>0.820067</td>\n",
       "      <td>0</td>\n",
       "      <td>0.515568</td>\n",
       "      <td>1.25817</td>\n",
       "      <td>0</td>\n",
       "      <td>0</td>\n",
       "      <td>log</td>\n",
       "    </tr>\n",
       "    <tr>\n",
       "      <th>centered</th>\n",
       "      <td>-30.7148</td>\n",
       "      <td>0.919548</td>\n",
       "      <td>0.0637183</td>\n",
       "      <td>0.484432</td>\n",
       "      <td>1.23771</td>\n",
       "      <td>0.0534409</td>\n",
       "      <td>0</td>\n",
       "      <td>log</td>\n",
       "    </tr>\n",
       "  </tbody>\n",
       "</table>\n",
       "</div>"
      ],
      "text/plain": [
       "                 waic    p_waic     d_waic    weight       se        dse  \\\n",
       "non centered -30.6511  0.820067          0  0.515568  1.25817          0   \n",
       "centered     -30.7148  0.919548  0.0637183  0.484432  1.23771  0.0534409   \n",
       "\n",
       "             warning waic_scale  \n",
       "non centered       0        log  \n",
       "centered           0        log  "
      ]
     },
     "execution_count": 26,
     "metadata": {},
     "output_type": "execute_result"
    }
   ],
   "source": [
    "az.compare(compare_dict, scale=\"log\")"
   ]
  },
  {
   "cell_type": "markdown",
   "metadata": {},
   "source": [
    "Here we load two versions \n",
    "In order\n",
    "1. WAIC is the WAIC \n",
    "2. p_waic is the estimate of number of parameters\n",
    "3. Weight is the Akaike weight which can be used for model average\n",
    "4. se is the standard error of the WAIC estimate (Remember WAIC estimates are also distributions)\n",
    "5. dse is the standard error of the top ranked WAIC and each model\n",
    "6. Warning that WAIC may be failing\n",
    "7. Scale is the \"multiplier\" on the in sample deviation portion of WAIC"
   ]
  },
  {
   "cell_type": "markdown",
   "metadata": {},
   "source": [
    "## Plot Compare\n",
    "ArviZ provides plot compare as a way to summarize the results of WAIC, and in particular when comparing multiple models. "
   ]
  },
  {
   "cell_type": "code",
   "execution_count": 29,
   "metadata": {},
   "outputs": [
    {
     "data": {
      "text/plain": [
       "<matplotlib.axes._subplots.AxesSubplot at 0x1c1a1eef28>"
      ]
     },
     "execution_count": 29,
     "metadata": {},
     "output_type": "execute_result"
    },
    {
     "data": {
      "image/png": "[encoded data removed]",
      "text/plain": [
       "<Figure size 432x144 with 1 Axes>"
      ]
     },
     "metadata": {
      "needs_background": "light"
     },
     "output_type": "display_data"
    }
   ],
   "source": [
    "model_compare = az.compare({'Centered 8 schools': az.load_arviz_data('centered_eight'),\n",
    "                           'Non-centered 8 schools': az.load_arviz_data('non_centered_eight')})\n",
    "az.plot_compare(model_compare, plot_ic_diff=True, plot_standard_error=True, insample_dev=True)"
   ]
  },
  {
   "cell_type": "markdown",
   "metadata": {},
   "source": [
    "* The open circles are the WAIC values of each model. This includes both the in sample deviance and the model complexity penalization.\n",
    "* The dark circles are in sample deviance. These measure how well the model fits the data.\n",
    "* The standard error of the differences ofplotted in by the gray triangles and gray lines. This is the standard error of the different \n",
    "* The dark gray lines are the standard error of WAIC\n",
    "\n",
    "All except WAIC can be turned on or off using the boolean argument shown above."
   ]
  },
  {
   "cell_type": "markdown",
   "metadata": {},
   "source": [
    "## Enough with the math, what's the practical advice\n",
    "* Models with lower Information Criterion tend to be better\n",
    "* Lowest Information Criterion does not always mean the best model\n",
    "\n",
    "That being said the interpretation of Information Criterion is not always straightforward. Interpretation depends on your data, how your models choice and parametrization, priors etc. Remember it's just a tool to help you understand your models, and not a strict rule."
   ]
  },
  {
   "cell_type": "markdown",
   "metadata": {},
   "source": [
    "## Additional Methods Pareto Smoothed Importance Sample Leave one out"
   ]
  },
  {
   "cell_type": "markdown",
   "metadata": {},
   "source": [
    "Leave One Out validation is another method to estimate a model's ability to fit unseen data.\n",
    "\n",
    "Leave One Out validation is a method where the model is trained on all the data points but one, then the posterior is used to estimate the likelihood of the last point. This method is an effective way of testing a models ability to fit unseeen data, but unfortunately requires the Inference run to be repeated N times for N data points, this is usually takes too long.\n",
    "\n",
    "PSIS-Loo, developed by Aki Vehtari, does some magic to pareto sample stuff and make this easier."
   ]
  }
 ],
 "metadata": {
  "kernelspec": {
   "display_name": "Python 3",
   "language": "python",
   "name": "python3"
  },
  "language_info": {
   "codemirror_mode": {
    "name": "ipython",
    "version": 3
   },
   "file_extension": ".py",
   "mimetype": "text/x-python",
   "name": "python",
   "nbconvert_exporter": "python",
   "pygments_lexer": "ipython3",
   "version": "3.6.8"
  }
 },
 "nbformat": 4,
 "nbformat_minor": 2
}
