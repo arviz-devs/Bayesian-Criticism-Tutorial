{
 "cells": [
  {
   "cell_type": "markdown",
   "metadata": {},
   "source": [
    "# Section 1: Bayesian refresher and Introduction to ArviZ"
   ]
  },
  {
   "cell_type": "markdown",
   "metadata": {},
   "source": [
    "_What does an end to end Bayesian Workflow look like?_"
   ]
  },
  {
   "cell_type": "markdown",
   "metadata": {},
   "source": [
    "_Statistics is a branch of mathematics dealing with data collection, organization, analysis, interpretation and presentation_ - Wikipedia\n",
    "\n",
    "\n",
    "## Bayesian vs \"Machine Learning\"\n",
    "When people think of machine learning often the focus is on model fitting and model \"accuracy\", but a full end to end workflow requires many more activities, from model selection, model criticism, loss function design, as well as various visualizations to help interpret all of the above."
   ]
  },
  {
   "cell_type": "markdown",
   "metadata": {},
   "source": [
    "| Name              | Linear Regression                   |  Deep Learning (Classification) | Bayesian Statistics            |\n",
    "|-------------------|-------------------------------------|---------------------------------|--------------------------------|\n",
    "| Parameter Fitting | Least Squares                       | Backpropogation                 | Markov Chain Monte Carlo, ADVI |\n",
    "| Metrics           | r^2                                 | F1_Score, ROC/AUC               | WAIC, Bayes Factor             |\n",
    "| Model Parameters  | Coefficients                        | Layers, Activation Types        | Distribution Graph, Priors     |\n",
    "| Loss              |  Mean Absolute Error, Squared Error | Categorical Cross Entropy       | Likelihood                     |\n",
    "| Predictions       | y_hat                               | Softmax score                   | Posterior Predictive           |"
   ]
  },
  {
   "cell_type": "markdown",
   "metadata": {},
   "source": [
    "For the purposes of this talk, machine learning and statistics are interchangeable and mean the same thing."
   ]
  },
  {
   "cell_type": "markdown",
   "metadata": {},
   "source": [
    "## Bayesian Versus Frequentism\n",
    "* \"Bayesianism vs frequentism\" as \"uncertain parameters vs uncertain data\"\n"
   ]
  },
  {
   "cell_type": "markdown",
   "metadata": {},
   "source": [
    "## B\n",
    "**Need to understand this better**\n",
    "* Mar as a way of computing expectations\n",
    "* In the context of MCMC, a \"distribution\" is a collection of samples, possibly with more structure"
   ]
  }
 ],
 "metadata": {
  "kernelspec": {
   "display_name": "Python 3",
   "language": "python",
   "name": "python3"
  },
  "language_info": {
   "codemirror_mode": {
    "name": "ipython",
    "version": 3
   },
   "file_extension": ".py",
   "mimetype": "text/x-python",
   "name": "python",
   "nbconvert_exporter": "python",
   "pygments_lexer": "ipython3",
   "version": "3.7.2"
  }
 },
 "nbformat": 4,
 "nbformat_minor": 2
}
